{
 "cells": [
  {
   "cell_type": "code",
   "execution_count": 3,
   "id": "5ec55160",
   "metadata": {},
   "outputs": [],
   "source": [
    "import pandas as pd\n",
    "import numpy as np\n",
    "\n",
    "from sklearn.ensemble import RandomForestRegressor\n",
    "from sklearn.metrics import mean_absolute_error\n",
    "from sklearn.model_selection import train_test_split\n",
    "from sklearn.preprocessing import OneHotEncoder"
   ]
  },
  {
   "cell_type": "code",
   "execution_count": 4,
   "id": "790c4ea1",
   "metadata": {},
   "outputs": [
    {
     "name": "stdout",
     "output_type": "stream",
     "text": [
      "Dataset upload complete. Dataset comprises 463 entries.\n",
      "Dataset split into 416 training data points and 47 validation points.\n"
     ]
    }
   ],
   "source": [
    "# define the dataset\n",
    "training_data = pd.read_csv('..\\\\data\\\\train.csv', index_col='ADDRESS')\n",
    "#training_data = training_data.select_dtypes(include=[np.number])\n",
    "training_data = training_data.dropna(axis=0)\n",
    "\n",
    "# define X and y\n",
    "X = training_data.loc[:, dataset.columns != 'SELL_PRICE']\n",
    "y = training_data.SELL_PRICE   #target column i.e. price range\n",
    "\n",
    "print(f\"Dataset upload complete. Dataset comprises {len(X)} entries.\")\n",
    "\n",
    "# split dataset into validation and training data\n",
    "X_train, X_val, y_train, y_val = train_test_split(X, y, test_size=0.1, random_state=1)\n",
    "\n",
    "print(f\"Dataset split into {len(X_train)} training data points and {len(X_val)} validation points.\")"
   ]
  },
  {
   "cell_type": "code",
   "execution_count": 9,
   "id": "0a75eca3",
   "metadata": {},
   "outputs": [
    {
     "name": "stdout",
     "output_type": "stream",
     "text": [
      "Categorical variables:\n",
      "['n_hood']\n"
     ]
    }
   ],
   "source": [
    "# Get list of categorical variables\n",
    "s = (X_train.dtypes == 'object')\n",
    "object_cols = list(s[s].index)\n",
    "\n",
    "print(\"Categorical variables:\")\n",
    "print(object_cols)\n"
   ]
  },
  {
   "cell_type": "code",
   "execution_count": 11,
   "id": "7ec694c2",
   "metadata": {},
   "outputs": [
    {
     "name": "stdout",
     "output_type": "stream",
     "text": [
      "MAE from Approach 3 (One-Hot Encoding):\n"
     ]
    },
    {
     "name": "stderr",
     "output_type": "stream",
     "text": [
      "C:\\Users\\Shane\\miniconda3\\lib\\site-packages\\sklearn\\utils\\validation.py:1675: FutureWarning: Feature names only support names that are all strings. Got feature names with dtypes: ['int', 'str']. An error will be raised in 1.2.\n",
      "  warnings.warn(\n"
     ]
    },
    {
     "name": "stdout",
     "output_type": "stream",
     "text": [
      "61446.0\n"
     ]
    },
    {
     "name": "stderr",
     "output_type": "stream",
     "text": [
      "C:\\Users\\Shane\\miniconda3\\lib\\site-packages\\sklearn\\utils\\validation.py:1675: FutureWarning: Feature names only support names that are all strings. Got feature names with dtypes: ['int', 'str']. An error will be raised in 1.2.\n",
      "  warnings.warn(\n"
     ]
    }
   ],
   "source": [
    "X_train, X_val, y_train, y_val\n",
    "\n",
    "# Apply one-hot encoder to each column with categorical data\n",
    "# handle_unknown='ignore' to avoid errors when validation data contains classes that aren't represented in training data\n",
    "# sparse=False ensures that encoded columns are returned as numpy array (instead of a sparse matrix)\n",
    "OH_encoder = OneHotEncoder(handle_unknown='ignore', sparse=False)\n",
    "OH_cols_train = pd.DataFrame(OH_encoder.fit_transform(X_train[object_cols]))\n",
    "OH_cols_val = pd.DataFrame(OH_encoder.transform(X_val[object_cols]))\n",
    "\n",
    "# One-hot encoding removed index, so now we put it back\n",
    "OH_cols_train.index = X_train.index\n",
    "OH_cols_val.index = X_val.index\n",
    "\n",
    "# Remove categorical columns (will replace with one-hot encoding)\n",
    "num_X_train = X_train.drop(object_cols, axis=1)\n",
    "num_X_val = X_val.drop(object_cols, axis=1)\n",
    "\n",
    "# Add one-hot encoded columns to numerical features\n",
    "OH_X_train = pd.concat([num_X_train, OH_cols_train], axis=1)\n",
    "OH_X_val = pd.concat([num_X_val, OH_cols_val], axis=1)\n",
    "\n",
    "# Function for comparing different approaches\n",
    "def score_dataset(X_train, X_valid, y_train, y_valid):\n",
    "    #model = RandomForestRegressor(random_state=1)\n",
    "    model = RandomForestRegressor(n_estimators=100, random_state=0)\n",
    "    model.fit(X_train, y_train)\n",
    "    preds = model.predict(X_valid)\n",
    "    return mean_absolute_error(y_valid, preds)\n",
    "\n",
    "print(\"MAE from Approach 3 (One-Hot Encoding):\") \n",
    "print(score_dataset(OH_X_train, OH_X_val, y_train, y_val))"
   ]
  }
 ],
 "metadata": {
  "interpreter": {
   "hash": "329be4360984adccd2a89186caf100ba561a36e0758e1e64a4fb4d77c807baf4"
  },
  "kernelspec": {
   "display_name": "Python 3.8.8 64-bit ('base': conda)",
   "name": "python3"
  },
  "language_info": {
   "codemirror_mode": {
    "name": "ipython",
    "version": 3
   },
   "file_extension": ".py",
   "mimetype": "text/x-python",
   "name": "python",
   "nbconvert_exporter": "python",
   "pygments_lexer": "ipython3",
   "version": "3.9.5"
  }
 },
 "nbformat": 4,
 "nbformat_minor": 5
}
