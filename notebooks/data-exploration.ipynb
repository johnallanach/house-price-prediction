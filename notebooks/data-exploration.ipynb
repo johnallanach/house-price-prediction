{
 "cells": [
  {
   "cell_type": "code",
   "execution_count": 6,
   "id": "bda83d77-d320-4103-b604-cde68595dbe8",
   "metadata": {},
   "outputs": [],
   "source": [
    "# PREPROCESSING & DATA LOADING\n",
    "import pandas as pd\n",
    "import numpy as np\n",
    "\n",
    "# DEFINE THE DATASET\n",
    "sales_data = pd.read_csv('..\\\\data\\\\train.csv', index_col='ADDRESS')\n",
    "sales_data = sales_data.select_dtypes(include=[np.number])\n",
    "#sales_data = sales_data.dropna(axis=0)\n",
    "\n",
    "# drop columns by Name\n",
    "sales_data = sales_data.drop(['Unnamed: 0','FID','GPID', 'DA_ID'], axis=1)\n",
    "#sales_data = sales_data.drop(['pop_chng_p'], axis=1)\n",
    "\n",
    "# convert negative values to absolute \n",
    "#sales_data['LON'] = sales_data['LON'].abs()\n",
    "\n",
    "# define X and y\n",
    "#X = sales_data.loc[:, sales_data.columns != 'SELL_PRICE']   #independent columns\n",
    "X = sales_data.loc[:, sales_data.columns] \n",
    "y = sales_data.SELL_PRICE                                   #target column i.e. sale prices"
   ]
  },
  {
   "cell_type": "code",
   "execution_count": 8,
   "id": "87240072",
   "metadata": {},
   "outputs": [],
   "source": [
    "corr_matrix = X.corr()\n",
    "corr_matrix[\"median_house_value\"].sort_values(ascending=False)"
   ]
  },
  {
   "cell_type": "code",
   "execution_count": 4,
   "id": "f3496fee",
   "metadata": {},
   "outputs": [
    {
     "name": "stderr",
     "output_type": "stream",
     "text": [
      "UsageError: unrecognized arguments: # only in a Jupyter notebook\n"
     ]
    }
   ],
   "source": [
    "import matplotlib.pyplot as plt\n",
    "X.hist(bins=50, figsize=(20,15))\n",
    "plt.show()"
   ]
  }
 ],
 "metadata": {
  "interpreter": {
   "hash": "329be4360984adccd2a89186caf100ba561a36e0758e1e64a4fb4d77c807baf4"
  },
  "kernelspec": {
   "display_name": "Python 3.8.8 64-bit ('base': conda)",
   "name": "python3"
  },
  "language_info": {
   "codemirror_mode": {
    "name": "ipython",
    "version": 3
   },
   "file_extension": ".py",
   "mimetype": "text/x-python",
   "name": "python",
   "nbconvert_exporter": "python",
   "pygments_lexer": "ipython3",
   "version": "3.9.5"
  }
 },
 "nbformat": 4,
 "nbformat_minor": 5
}
