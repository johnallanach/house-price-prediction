{
 "cells": [
  {
   "cell_type": "markdown",
   "id": "a027f3f3",
   "metadata": {},
   "source": [
    "##### Adapted from: \n",
    "##### https://towardsdatascience.com/feature-selection-techniques-in-machine-learning-with-python-f24e7da3f36e\n",
    "##### https://machinelearningmastery.com/calculate-feature-importance-with-python/"
   ]
  },
  {
   "cell_type": "code",
   "execution_count": 31,
   "id": "698ca62e",
   "metadata": {},
   "outputs": [],
   "source": [
    "import pandas as pd\n",
    "import numpy as np\n",
    "\n",
    "# DEFINE THE DATASET\n",
    "sales_data = pd.read_csv('..\\\\data\\\\train.csv')\n",
    "sales_data = sales_data.select_dtypes(include=[np.number])\n",
    "sales_data = sales_data.dropna(axis=0)\n",
    "\n",
    "# drop columns by Name\n",
    "sales_data = sales_data.drop(['FID', 'FID_2', 'GPID', 'GPID_2', 'pop_chng_p'], axis=1)\n",
    "\n",
    "# convert negative values to absolute \n",
    "sales_data['LON'] = sales_data['LON'].abs()\n",
    "\n",
    "# define X and y\n",
    "X = sales_data.loc[:, sales_data.columns != 'SELL_PRICE']  #independent columns\n",
    "y = sales_data.SELL_PRICE   #target column i.e. price range\n"
   ]
  },
  {
   "cell_type": "markdown",
   "metadata": {},
   "source": [
    "### Classification and Regression Trees - DecisionTreeRegressor"
   ]
  },
  {
   "cell_type": "code",
   "execution_count": null,
   "id": "5ce9672b",
   "metadata": {},
   "outputs": [],
   "source": [
    "# decision tree for feature importance on a regression problem\n",
    "from sklearn.tree import DecisionTreeRegressor\n",
    "from matplotlib import pyplot\n",
    "\n",
    "# define the model\n",
    "model = DecisionTreeRegressor()\n",
    "\n",
    "# fit the model\n",
    "model.fit(X, y)\n",
    "\n",
    "# get importance\n",
    "importance = model.feature_importances_\n",
    "\n",
    "# assign importance and columns to dataframes\n",
    "dfimportance = pd.DataFrame(importance)\n",
    "dfcolumns = pd.DataFrame(X.columns)\n",
    "\n",
    "#concat two dataframes for better visualization \n",
    "featureScores = pd.concat([dfcolumns,dfimportance],axis=1)\n",
    "featureScores.columns = ['Specs','Score']  #naming the dataframe columns\n",
    "print(featureScores.nlargest(20,'Score'))  #print 20 best features\n",
    "\n",
    "# plot feature importance\n",
    "pyplot.bar([x for x in range(len(importance))], importance)\n",
    "pyplot.show()\n"
   ]
  },
  {
   "cell_type": "markdown",
   "id": "ee531e5b",
   "metadata": {},
   "source": [
    "### Classification and Regression Trees - ExtraTreesClassifier"
   ]
  },
  {
   "cell_type": "code",
   "execution_count": null,
   "id": "26850007",
   "metadata": {},
   "outputs": [],
   "source": [
    "from sklearn.ensemble import ExtraTreesClassifier\n",
    "import matplotlib.pyplot as plt\n",
    "\n",
    "model = ExtraTreesClassifier()\n",
    "model.fit(X,y)\n",
    "print(model.feature_importances_) #use inbuilt class feature_importances of tree based classifiers\n",
    "\n",
    "#plot graph of feature importances for better visualization\n",
    "feat_importances = pd.Series(model.feature_importances_, index=X.columns)\n",
    "feat_importances.nlargest(10).plot(kind='barh')\n",
    "plt.show()\n"
   ]
  },
  {
   "cell_type": "markdown",
   "id": "09b8be5d",
   "metadata": {},
   "source": [
    "### Classification and Regression Trees - Random Forest Regression"
   ]
  },
  {
   "cell_type": "code",
   "execution_count": 6,
   "id": "49105667",
   "metadata": {},
   "outputs": [
    {
     "name": "stdout",
     "output_type": "stream",
     "text": [
      "         Specs     Score\n",
      "62  LIST_PRICE  0.537202\n",
      "69     ASS_AMT  0.134342\n",
      "71     TAX_AMT  0.131800\n",
      "66   SIZE_SQFT  0.072032\n",
      "35    bach_pct  0.019117\n",
      "39    doct_pct  0.008073\n",
      "25     ave_val  0.007279\n",
      "73    LOT_FRNT  0.006549\n",
      "32     rent_av  0.005356\n",
      "75         LON  0.004810\n",
      "48  mvrs_1yr_p  0.004069\n",
      "16  pop_age_av  0.003523\n",
      "0   Shape__Are  0.003343\n",
      "15  65_pls_pct  0.002569\n",
      "74         LAT  0.002344\n",
      "23     ave_inc  0.002221\n",
      "12   20_24_pct  0.002209\n",
      "14   15_64_pct  0.002047\n",
      "72    LOT_DPTH  0.002046\n",
      "58   walkscore  0.001895\n"
     ]
    },
    {
     "data": {
      "image/png": "[encoded data removed]",
      "text/plain": [
       "<Figure size 432x288 with 1 Axes>"
      ]
     },
     "metadata": {
      "needs_background": "light"
     },
     "output_type": "display_data"
    }
   ],
   "source": [
    "# random forest for feature importance on a regression problem\n",
    "from sklearn.ensemble import RandomForestRegressor\n",
    "from matplotlib import pyplot\n",
    "\n",
    "# define the model\n",
    "model = RandomForestRegressor()\n",
    "\n",
    "# fit the model\n",
    "model.fit(X, y)\n",
    "\n",
    "# get importance\n",
    "importance = model.feature_importances_\n",
    "\n",
    "# assign importance and columns to dataframes\n",
    "dfimportance = pd.DataFrame(importance)\n",
    "dfcolumns = pd.DataFrame(X.columns)\n",
    "\n",
    "#concat two dataframes for better visualization \n",
    "featureScores = pd.concat([dfcolumns,dfimportance],axis=1)\n",
    "featureScores.columns = ['Specs','Score']  #naming the dataframe columns\n",
    "print(featureScores.nlargest(20,'Score'))  #print 20 best features\n",
    "\n",
    "# plot feature importance\n",
    "pyplot.bar([x for x in range(len(importance))], importance)\n",
    "pyplot.show()"
   ]
  },
  {
   "cell_type": "markdown",
   "id": "4155bf8d",
   "metadata": {},
   "source": [
    "### Classification and Regression Trees - Random Forest Classifier"
   ]
  },
  {
   "cell_type": "code",
   "execution_count": 13,
   "id": "5d96998e",
   "metadata": {},
   "outputs": [
    {
     "name": "stdout",
     "output_type": "stream",
     "text": [
      "         Specs     Score\n",
      "50    noise_km  0.024694\n",
      "60      ws_ave  0.023467\n",
      "73    LOT_FRNT  0.022649\n",
      "69     ASS_AMT  0.022332\n",
      "75         LON  0.022074\n",
      "61      bs_ave  0.021357\n",
      "74         LAT  0.020918\n",
      "15  65_pls_pct  0.020674\n",
      "25     ave_val  0.019846\n",
      "62  LIST_PRICE  0.019530\n",
      "52    bylaw_km  0.019240\n",
      "71     TAX_AMT  0.019006\n",
      "49  mvrs_3yr_p  0.018766\n",
      "14   15_64_pct  0.018681\n",
      "58   walkscore  0.017612\n",
      "72    LOT_DPTH  0.017302\n",
      "5     pop_dens  0.017160\n",
      "57    trees_km  0.015897\n",
      "45    walk_pct  0.015673\n",
      "54    total_km  0.015454\n"
     ]
    },
    {
     "data": {
      "image/png": "[encoded data removed]",
      "text/plain": [
       "<Figure size 432x288 with 1 Axes>"
      ]
     },
     "metadata": {
      "needs_background": "light"
     },
     "output_type": "display_data"
    }
   ],
   "source": [
    "# random forest for feature importance on a classification problem\n",
    "from sklearn.ensemble import RandomForestClassifier\n",
    "from matplotlib import pyplot\n",
    "\n",
    "# define the model\n",
    "model = RandomForestClassifier()\n",
    "\n",
    "# fit the model\n",
    "model.fit(X, y)\n",
    "\n",
    "# get importance\n",
    "importance = model.feature_importances_\n",
    "\n",
    "# assign importance and columns to dataframes\n",
    "dfimportance = pd.DataFrame(importance)\n",
    "dfcolumns = pd.DataFrame(X.columns)\n",
    "\n",
    "#concat two dataframes for better visualization \n",
    "featureScores = pd.concat([dfcolumns,dfimportance],axis=1)\n",
    "featureScores.columns = ['Specs','Score']  #naming the dataframe columns\n",
    "print(featureScores.nlargest(20,'Score'))  #print 20 best features\n",
    "\n",
    "# plot feature importance\n",
    "pyplot.bar([x for x in range(len(importance))], importance)\n",
    "pyplot.show()"
   ]
  },
  {
   "cell_type": "markdown",
   "id": "a56d25ee",
   "metadata": {},
   "source": [
    "### Univariate Selection - SelectKBest"
   ]
  },
  {
   "cell_type": "code",
   "execution_count": null,
   "id": "aa2d68a0",
   "metadata": {},
   "outputs": [],
   "source": [
    "from sklearn.feature_selection import SelectKBest\n",
    "from sklearn.feature_selection import chi2\n",
    "\n",
    "#apply SelectKBest class to extract top 10 best features\n",
    "bestfeatures = SelectKBest(score_func=chi2, k=10)\n",
    "fit = bestfeatures.fit(X,y)\n",
    "dfscores = pd.DataFrame(fit.scores_)\n",
    "dfcolumns = pd.DataFrame(X.columns)\n",
    "\n",
    "#concat two dataframes for better visualization \n",
    "featureScores = pd.concat([dfcolumns,dfscores],axis=1)\n",
    "featureScores.columns = ['Specs','Score']  #naming the dataframe columns\n",
    "print(featureScores.nlargest(20,'Score'))  #print 20 best features\n"
   ]
  },
  {
   "cell_type": "markdown",
   "id": "32640d4d",
   "metadata": {},
   "source": [
    "### XGBoost Regression"
   ]
  },
  {
   "cell_type": "code",
   "execution_count": 14,
   "id": "dd8f053e",
   "metadata": {},
   "outputs": [
    {
     "name": "stdout",
     "output_type": "stream",
     "text": [
      "         Specs     Score\n",
      "66   SIZE_SQFT  0.479807\n",
      "69     ASS_AMT  0.302530\n",
      "62  LIST_PRICE  0.078457\n",
      "71     TAX_AMT  0.060032\n",
      "49  mvrs_3yr_p  0.017358\n",
      "73    LOT_FRNT  0.008703\n",
      "6    land_area  0.008271\n",
      "72    LOT_DPTH  0.007988\n",
      "23     ave_inc  0.006915\n",
      "11   20_24_yrs  0.006832\n",
      "57    trees_km  0.004152\n",
      "28       rentr  0.003242\n",
      "12   20_24_pct  0.002224\n",
      "74         LAT  0.001950\n",
      "47   bicyc_pct  0.001693\n",
      "58   walkscore  0.001493\n",
      "68      ASS_YR  0.001447\n",
      "7   dwell_dens  0.001197\n",
      "64       BDRMS  0.000812\n",
      "35    bach_pct  0.000709\n"
     ]
    },
    {
     "data": {
      "image/png": "[encoded data removed]",
      "text/plain": [
       "<Figure size 432x288 with 1 Axes>"
      ]
     },
     "metadata": {
      "needs_background": "light"
     },
     "output_type": "display_data"
    }
   ],
   "source": [
    "# xgboost for feature importance on a regression problem\n",
    "from xgboost import XGBRegressor\n",
    "from matplotlib import pyplot\n",
    "\n",
    "# define the model\n",
    "model = XGBRegressor()\n",
    "\n",
    "# fit the model\n",
    "model.fit(X, y)\n",
    "\n",
    "# get importance\n",
    "importance = model.feature_importances_\n",
    "\n",
    "# assign importance and columns to dataframes\n",
    "dfimportance = pd.DataFrame(importance)\n",
    "dfcolumns = pd.DataFrame(X.columns)\n",
    "\n",
    "#concat two dataframes for better visualization \n",
    "featureScores = pd.concat([dfcolumns,dfimportance],axis=1)\n",
    "featureScores.columns = ['Specs','Score']  #naming the dataframe columns\n",
    "print(featureScores.nlargest(20,'Score'))  #print 20 best features\n",
    "\n",
    "# plot feature importance\n",
    "pyplot.bar([x for x in range(len(importance))], importance)\n",
    "pyplot.show()"
   ]
  },
  {
   "cell_type": "markdown",
   "id": "8991d9a0",
   "metadata": {},
   "source": [
    "### XGBoost Classification"
   ]
  },
  {
   "cell_type": "code",
   "execution_count": 15,
   "id": "ab365393",
   "metadata": {},
   "outputs": [
    {
     "name": "stderr",
     "output_type": "stream",
     "text": [
      "C:\\Users\\Shane\\miniconda3\\lib\\site-packages\\xgboost\\sklearn.py:1224: UserWarning: The use of label encoder in XGBClassifier is deprecated and will be removed in a future release. To remove this warning, do the following: 1) Pass option use_label_encoder=False when constructing XGBClassifier object; and 2) Encode your labels (y) as integers starting with 0, i.e. 0, 1, 2, ..., [num_class - 1].\n",
      "  warnings.warn(label_encoder_deprecation_msg, UserWarning)\n"
     ]
    },
    {
     "name": "stdout",
     "output_type": "stream",
     "text": [
      "[20:19:34] WARNING: D:\\bld\\xgboost-split_1637426510059\\work\\src\\learner.cc:1115: Starting in XGBoost 1.3.0, the default evaluation metric used with the objective 'multi:softprob' was changed from 'merror' to 'mlogloss'. Explicitly set eval_metric if you'd like to restore the old behavior.\n",
      "         Specs     Score\n",
      "56  Ave_Rating  0.057602\n",
      "42     transit  0.038688\n",
      "15  65_pls_pct  0.037535\n",
      "35    bach_pct  0.036418\n",
      "71     TAX_AMT  0.031281\n",
      "72    LOT_DPTH  0.026527\n",
      "58   walkscore  0.024706\n",
      "25     ave_val  0.023750\n",
      "14   15_64_pct  0.022614\n",
      "54    total_km  0.022122\n",
      "24  median_val  0.022079\n",
      "62  LIST_PRICE  0.020124\n",
      "39    doct_pct  0.018385\n",
      "13    0_14_pct  0.018030\n",
      "7   dwell_dens  0.017667\n",
      "74         LAT  0.017634\n",
      "69     ASS_AMT  0.016886\n",
      "51     bark_km  0.014373\n",
      "49  mvrs_3yr_p  0.013049\n",
      "0   Shape__Are  0.012976\n"
     ]
    },
    {
     "data": {
      "image/png": "[encoded data removed]",
      "text/plain": [
       "<Figure size 432x288 with 1 Axes>"
      ]
     },
     "metadata": {
      "needs_background": "light"
     },
     "output_type": "display_data"
    }
   ],
   "source": [
    "# xgboost for feature importance on a classification problem\n",
    "from xgboost import XGBClassifier\n",
    "from matplotlib import pyplot\n",
    "\n",
    "# define the model\n",
    "model = XGBClassifier()\n",
    "\n",
    "# fit the model\n",
    "model.fit(X, y)\n",
    "\n",
    "# get importance\n",
    "importance = model.feature_importances_\n",
    "\n",
    "# assign importance and columns to dataframes\n",
    "dfimportance = pd.DataFrame(importance)\n",
    "dfcolumns = pd.DataFrame(X.columns)\n",
    "\n",
    "#concat two dataframes for better visualization \n",
    "featureScores = pd.concat([dfcolumns,dfimportance],axis=1)\n",
    "featureScores.columns = ['Specs','Score']  #naming the dataframe columns\n",
    "print(featureScores.nlargest(20,'Score'))  #print 20 best features\n",
    "\n",
    "# plot feature importance\n",
    "pyplot.bar([x for x in range(len(importance))], importance)\n",
    "pyplot.show()"
   ]
  },
  {
   "cell_type": "markdown",
   "id": "2ad8bafa",
   "metadata": {},
   "source": [
    "### Permutation Feature Importance for Regression"
   ]
  },
  {
   "cell_type": "code",
   "execution_count": 16,
   "id": "415251a8",
   "metadata": {},
   "outputs": [
    {
     "name": "stdout",
     "output_type": "stream",
     "text": [
      "         Specs         Score\n",
      "62  LIST_PRICE  7.332955e+10\n",
      "69     ASS_AMT  7.533118e+09\n",
      "25     ave_val  2.165715e+08\n",
      "24  median_val  2.116675e+08\n",
      "1        DAUID  0.000000e+00\n",
      "2        DA_ID  0.000000e+00\n",
      "3   pop_2016_2  0.000000e+00\n",
      "4     pop_2011  0.000000e+00\n",
      "5     pop_dens  0.000000e+00\n",
      "6    land_area  0.000000e+00\n",
      "7   dwell_dens  0.000000e+00\n",
      "8     0_14_yrs  0.000000e+00\n",
      "9    15_64_yrs  0.000000e+00\n",
      "10  65_plus_yr  0.000000e+00\n",
      "11   20_24_yrs  0.000000e+00\n",
      "12   20_24_pct  0.000000e+00\n",
      "13    0_14_pct  0.000000e+00\n",
      "14   15_64_pct  0.000000e+00\n",
      "15  65_pls_pct  0.000000e+00\n",
      "16  pop_age_av  0.000000e+00\n"
     ]
    },
    {
     "data": {
      "image/png": "[encoded data removed]",
      "text/plain": [
       "<Figure size 432x288 with 1 Axes>"
      ]
     },
     "metadata": {
      "needs_background": "light"
     },
     "output_type": "display_data"
    }
   ],
   "source": [
    "# permutation feature importance with knn for regression\n",
    "from sklearn.neighbors import KNeighborsRegressor\n",
    "from sklearn.inspection import permutation_importance\n",
    "from matplotlib import pyplot\n",
    "\n",
    "# define the model\n",
    "model = KNeighborsRegressor()\n",
    "\n",
    "# fit the model\n",
    "model.fit(X, y)\n",
    "\n",
    "# perform permutation importance\n",
    "results = permutation_importance(model, X, y, scoring='neg_mean_squared_error')\n",
    "\n",
    "# get importance\n",
    "importance = results.importances_mean\n",
    "\n",
    "# assign importance and columns to dataframes\n",
    "dfimportance = pd.DataFrame(importance)\n",
    "dfcolumns = pd.DataFrame(X.columns)\n",
    "\n",
    "#concat two dataframes for better visualization \n",
    "featureScores = pd.concat([dfcolumns,dfimportance],axis=1)\n",
    "featureScores.columns = ['Specs','Score']  #naming the dataframe columns\n",
    "print(featureScores.nlargest(20,'Score'))  #print 20 best features\n",
    "\n",
    "# plot feature importance\n",
    "pyplot.bar([x for x in range(len(importance))], importance)\n",
    "pyplot.show()"
   ]
  },
  {
   "cell_type": "markdown",
   "id": "c750af02",
   "metadata": {},
   "source": [
    "### Permutation Feature Importance for Classification"
   ]
  },
  {
   "cell_type": "code",
   "execution_count": 19,
   "id": "5f25f6ac",
   "metadata": {},
   "outputs": [
    {
     "name": "stdout",
     "output_type": "stream",
     "text": [
      "         Specs         Score\n",
      "62         DOM  7.332955e+10\n",
      "69      TAX_YR  7.533118e+09\n",
      "25     ave_val  2.165715e+08\n",
      "24  median_val  2.116675e+08\n",
      "1        DAUID  0.000000e+00\n",
      "2        DA_ID  0.000000e+00\n",
      "3   pop_2016_2  0.000000e+00\n",
      "4     pop_2011  0.000000e+00\n",
      "5     pop_dens  0.000000e+00\n",
      "6    land_area  0.000000e+00\n",
      "7   dwell_dens  0.000000e+00\n",
      "8     0_14_yrs  0.000000e+00\n",
      "9    15_64_yrs  0.000000e+00\n",
      "10  65_plus_yr  0.000000e+00\n",
      "11   20_24_yrs  0.000000e+00\n",
      "12   20_24_pct  0.000000e+00\n",
      "13    0_14_pct  0.000000e+00\n",
      "14   15_64_pct  0.000000e+00\n",
      "15  65_pls_pct  0.000000e+00\n",
      "16  pop_age_av  0.000000e+00\n"
     ]
    },
    {
     "data": {
      "image/png": "[encoded data removed]",
      "text/plain": [
       "<Figure size 432x288 with 1 Axes>"
      ]
     },
     "metadata": {
      "needs_background": "light"
     },
     "output_type": "display_data"
    }
   ],
   "source": [
    "# permutation feature importance with knn for classification\n",
    "from sklearn.neighbors import KNeighborsClassifier\n",
    "from sklearn.inspection import permutation_importance\n",
    "from matplotlib import pyplot\n",
    "\n",
    "# define the model\n",
    "model = KNeighborsClassifier()\n",
    "\n",
    "# fit the model\n",
    "model.fit(X, y)\n",
    "\n",
    "# assign importance and columns to dataframes\n",
    "dfimportance = pd.DataFrame(importance)\n",
    "dfcolumns = pd.DataFrame(X.columns)\n",
    "\n",
    "#concat two dataframes for better visualization \n",
    "featureScores = pd.concat([dfcolumns,dfimportance],axis=1)\n",
    "featureScores.columns = ['Specs','Score']  #naming the dataframe columns\n",
    "print(featureScores.nlargest(20,'Score'))  #print 20 best features\n",
    "\n",
    "# plot feature importance\n",
    "pyplot.bar([x for x in range(len(importance))], importance)\n",
    "pyplot.show()"
   ]
  },
  {
   "cell_type": "markdown",
   "id": "0e79cb59",
   "metadata": {},
   "source": [
    "## Feature Selection with Importance"
   ]
  },
  {
   "cell_type": "code",
   "execution_count": 25,
   "id": "69e2a647",
   "metadata": {},
   "outputs": [
    {
     "name": "stdout",
     "output_type": "stream",
     "text": [
      "Accuracy: 84.55\n"
     ]
    }
   ],
   "source": [
    "# evaluation of a model using 5 features chosen with random forest importance\n",
    "from sklearn.datasets import make_classification\n",
    "from sklearn.model_selection import train_test_split\n",
    "from sklearn.feature_selection import SelectFromModel\n",
    "from sklearn.ensemble import RandomForestClassifier\n",
    "from sklearn.linear_model import LogisticRegression\n",
    "from sklearn.metrics import accuracy_score\n",
    "\n",
    "# feature selection\n",
    "def select_features(X_train, y_train, X_test):\n",
    "\t# configure to select a subset of features\n",
    "\tfs = SelectFromModel(RandomForestClassifier(n_estimators=1000), max_features=5)\n",
    "\t# learn relationship from training data\n",
    "\tfs.fit(X_train, y_train)\n",
    "\t# transform train input data\n",
    "\tX_train_fs = fs.transform(X_train)\n",
    "\t# transform test input data\n",
    "\tX_test_fs = fs.transform(X_test)\n",
    "\treturn X_train_fs, X_test_fs, fs\n",
    "\n",
    "# define the dataset\n",
    "X, y = make_classification(n_samples=1000, n_features=10, n_informative=5, n_redundant=5, random_state=1)\n",
    "\n",
    "# split into train and test sets\n",
    "X_train, X_test, y_train, y_test = train_test_split(X, y, test_size=0.33, random_state=1)\n",
    "\n",
    "# feature selection\n",
    "X_train_fs, X_test_fs, fs = select_features(X_train, y_train, X_test)\n",
    "\n",
    "# fit the model\n",
    "model = LogisticRegression(solver='liblinear')\n",
    "model.fit(X_train_fs, y_train)\n",
    "\n",
    "# evaluate the model\n",
    "yhat = model.predict(X_test_fs)\n",
    "\n",
    "# evaluate predictions\n",
    "accuracy = accuracy_score(y_test, yhat)\n",
    "print('Accuracy: %.2f' % (accuracy*100))\n"
   ]
  },
  {
   "cell_type": "markdown",
   "id": "2cdf7668",
   "metadata": {},
   "source": [
    "# =END OF WORKING CODE= "
   ]
  },
  {
   "cell_type": "markdown",
   "id": "83dd686a",
   "metadata": {},
   "source": [
    "### Linear Regression Feature Importance\n",
    "##### This assumes that the input variables have the same scale or have been scaled prior to fitting a model.\n"
   ]
  },
  {
   "cell_type": "code",
   "execution_count": null,
   "id": "95c7cf81",
   "metadata": {},
   "outputs": [],
   "source": [
    "# linear regression feature importance\n",
    "from sklearn.datasets import make_regression\n",
    "from sklearn.linear_model import LinearRegression\n",
    "from matplotlib import pyplot\n",
    "\n",
    "# define the model\n",
    "model = LinearRegression()\n",
    "\n",
    "# fit the model\n",
    "model.fit(X, y)\n",
    "\n",
    "# get importance\n",
    "importance = model.coef_\n",
    "\n",
    "# assign importance and columns to dataframes\n",
    "dfimportance = pd.DataFrame(importance)\n",
    "dfcolumns = pd.DataFrame(X.columns)\n",
    "\n",
    "#concat two dataframes for better visualization \n",
    "featureScores = pd.concat([dfcolumns,dfimportance],axis=1)\n",
    "featureScores.columns = ['Specs','Score']  #naming the dataframe columns\n",
    "print(featureScores.nlargest(20,'Score'))  #print 20 best features\n",
    "\n",
    "# plot feature importance\n",
    "pyplot.bar([x for x in range(len(importance))], importance)\n",
    "pyplot.show()\n"
   ]
  }
 ],
 "metadata": {
  "interpreter": {
   "hash": "329be4360984adccd2a89186caf100ba561a36e0758e1e64a4fb4d77c807baf4"
  },
  "kernelspec": {
   "display_name": "Python 3.8.8 64-bit ('base': conda)",
   "name": "python3"
  },
  "language_info": {
   "codemirror_mode": {
    "name": "ipython",
    "version": 3
   },
   "file_extension": ".py",
   "mimetype": "text/x-python",
   "name": "python",
   "nbconvert_exporter": "python",
   "pygments_lexer": "ipython3",
   "version": "3.9.5"
  }
 },
 "nbformat": 4,
 "nbformat_minor": 5
}
