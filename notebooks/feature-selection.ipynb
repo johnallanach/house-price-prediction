{
 "cells": [
  {
   "cell_type": "markdown",
   "id": "a027f3f3",
   "metadata": {},
   "source": [
    "##### Adapted from: \n",
    "##### https://towardsdatascience.com/feature-selection-techniques-in-machine-learning-with-python-f24e7da3f36e\n",
    "##### https://machinelearningmastery.com/calculate-feature-importance-with-python/"
   ]
  },
  {
   "cell_type": "code",
   "execution_count": 36,
   "id": "698ca62e",
   "metadata": {},
   "outputs": [],
   "source": [
    "import pandas as pd\n",
    "import numpy as np\n",
    "\n",
    "# DEFINE THE DATASET\n",
    "sales_data = pd.read_csv('..\\\\data\\\\train.csv')\n",
    "sales_data = sales_data.select_dtypes(include=[np.number])\n",
    "sales_data = sales_data.dropna(axis=0)\n",
    "\n",
    "# drop columns by Name\n",
    "sales_data = sales_data.drop(['Unnamed: 0', 'FID', 'GPID', 'pop_chng_p'], axis=1)\n",
    "\n",
    "# convert negative values to absolute \n",
    "#sales_data['LON'] = sales_data['LON'].abs()\n",
    "\n",
    "# define X and y\n",
    "X = sales_data.loc[:, sales_data.columns != 'SELL_PRICE']  #independent columns\n",
    "y = sales_data.SELL_PRICE   #target column i.e. price range\n"
   ]
  },
  {
   "cell_type": "markdown",
   "metadata": {},
   "source": [
    "### Classification and Regression Trees - DecisionTreeRegressor"
   ]
  },
  {
   "cell_type": "code",
   "execution_count": 47,
   "id": "5ce9672b",
   "metadata": {},
   "outputs": [
    {
     "name": "stdout",
     "output_type": "stream",
     "text": [
      "         Specs     Score\n",
      "23  median_val  0.403333\n",
      "33        bach  0.079899\n",
      "57      bs_ave  0.076237\n",
      "52    other_km  0.064302\n",
      "51    bylaw_km  0.056273\n",
      "50     bark_km  0.048436\n",
      "56      ws_ave  0.045039\n",
      "0    shp__area  0.032203\n",
      "11   20_24_pct  0.023371\n",
      "41     transit  0.018404\n",
      "43        walk  0.017152\n",
      "13   15_64_pct  0.016535\n",
      "55    trees_km  0.012773\n",
      "34    bach_pct  0.011243\n",
      "53    total_km  0.010190\n",
      "49    noise_km  0.009523\n",
      "22     ave_inc  0.008390\n",
      "37        doct  0.008326\n",
      "4     pop_dens  0.008053\n",
      "21  dwl_chld_p  0.006443\n"
     ]
    },
    {
     "data": {
      "image/png": "[encoded data removed]",
      "text/plain": [
       "<Figure size 432x288 with 1 Axes>"
      ]
     },
     "metadata": {
      "needs_background": "light"
     },
     "output_type": "display_data"
    }
   ],
   "source": [
    "# decision tree for feature importance on a regression problem\n",
    "from sklearn.tree import DecisionTreeRegressor\n",
    "from matplotlib import pyplot\n",
    "\n",
    "# define the model\n",
    "model = DecisionTreeRegressor()\n",
    "\n",
    "# fit the model\n",
    "model.fit(X, y)\n",
    "\n",
    "# get importance\n",
    "importance = model.feature_importances_\n",
    "\n",
    "# assign importance and columns to dataframes\n",
    "dfimportance = pd.DataFrame(importance)\n",
    "dfcolumns = pd.DataFrame(X.columns)\n",
    "\n",
    "#concat two dataframes for better visualization \n",
    "featureScores = pd.concat([dfcolumns,dfimportance],axis=1)\n",
    "featureScores.columns = ['Specs','Score']  #naming the dataframe columns\n",
    "print(featureScores.nlargest(20,'Score'))  #print 20 best features\n",
    "\n",
    "# plot feature importance\n",
    "pyplot.bar([x for x in range(len(importance))], importance)\n",
    "pyplot.show()\n"
   ]
  },
  {
   "cell_type": "markdown",
   "id": "ee531e5b",
   "metadata": {},
   "source": [
    "### Classification and Regression Trees - ExtraTreesClassifier"
   ]
  },
  {
   "cell_type": "code",
   "execution_count": 48,
   "id": "26850007",
   "metadata": {},
   "outputs": [
    {
     "name": "stdout",
     "output_type": "stream",
     "text": [
      "[0.06085057 0.00801721 0.00624711 0.00696747 0.00708175 0.00597178\n",
      " 0.00755588 0.00681592 0.00685536 0.00657933 0.00728236 0.0075502\n",
      " 0.00650834 0.00717716 0.00785115 0.00688532 0.00683449 0.00637547\n",
      " 0.0071821  0.00810584 0.00604778 0.0076595  0.00749593 0.00856528\n",
      " 0.00876704 0.00700081 0.00784553 0.00768697 0.00754581 0.00744557\n",
      " 0.00556011 0.00557818 0.0065555  0.00646581 0.00760713 0.00703916\n",
      " 0.00729318 0.00630533 0.00731223 0.00775389 0.00688458 0.00715442\n",
      " 0.00807096 0.00661454 0.00780605 0.00519558 0.00615803 0.00765942\n",
      " 0.00825675 0.07465423 0.07371208 0.07625649 0.07529256 0.07692567\n",
      " 0.01299735 0.0454018  0.08028338 0.08245058]\n"
     ]
    },
    {
     "data": {
      "image/png": "[encoded data removed]",
      "text/plain": [
       "<Figure size 432x288 with 1 Axes>"
      ]
     },
     "metadata": {
      "needs_background": "light"
     },
     "output_type": "display_data"
    }
   ],
   "source": [
    "from sklearn.ensemble import ExtraTreesClassifier\n",
    "import matplotlib.pyplot as plt\n",
    "\n",
    "model = ExtraTreesClassifier()\n",
    "model.fit(X,y)\n",
    "print(model.feature_importances_) #use inbuilt class feature_importances of tree based classifiers\n",
    "\n",
    "#plot graph of feature importances for better visualization\n",
    "feat_importances = pd.Series(model.feature_importances_, index=X.columns)\n",
    "feat_importances.nlargest(10).plot(kind='barh')\n",
    "plt.show()\n"
   ]
  },
  {
   "cell_type": "markdown",
   "id": "09b8be5d",
   "metadata": {},
   "source": [
    "### Classification and Regression Trees - Random Forest Regression"
   ]
  },
  {
   "cell_type": "code",
   "execution_count": 49,
   "id": "49105667",
   "metadata": {},
   "outputs": [
    {
     "name": "stdout",
     "output_type": "stream",
     "text": [
      "         Specs     Score\n",
      "24     ave_val  0.249518\n",
      "23  median_val  0.166749\n",
      "57      bs_ave  0.047766\n",
      "51    bylaw_km  0.047318\n",
      "50     bark_km  0.045790\n",
      "52    other_km  0.037994\n",
      "49    noise_km  0.034954\n",
      "0    shp__area  0.032966\n",
      "56      ws_ave  0.032866\n",
      "33        bach  0.031749\n",
      "53    total_km  0.023667\n",
      "55    trees_km  0.020823\n",
      "35        mast  0.017843\n",
      "48  mvrs_3yr_p  0.013107\n",
      "18   s_d_h_pct  0.011944\n",
      "22     ave_inc  0.010463\n",
      "30   rnt_30pls  0.010001\n",
      "54  school_sco  0.009288\n",
      "29   own_30pls  0.007408\n",
      "34    bach_pct  0.007297\n"
     ]
    },
    {
     "data": {
      "image/png": "[encoded data removed]",
      "text/plain": [
       "<Figure size 432x288 with 1 Axes>"
      ]
     },
     "metadata": {
      "needs_background": "light"
     },
     "output_type": "display_data"
    }
   ],
   "source": [
    "# random forest for feature importance on a regression problem\n",
    "from sklearn.ensemble import RandomForestRegressor\n",
    "from matplotlib import pyplot\n",
    "\n",
    "# define the model\n",
    "model = RandomForestRegressor()\n",
    "\n",
    "# fit the model\n",
    "model.fit(X, y)\n",
    "\n",
    "# get importance\n",
    "importance = model.feature_importances_\n",
    "\n",
    "# assign importance and columns to dataframes\n",
    "dfimportance = pd.DataFrame(importance)\n",
    "dfcolumns = pd.DataFrame(X.columns)\n",
    "\n",
    "#concat two dataframes for better visualization \n",
    "featureScores = pd.concat([dfcolumns,dfimportance],axis=1)\n",
    "featureScores.columns = ['Specs','Score']  #naming the dataframe columns\n",
    "print(featureScores.nlargest(20,'Score'))  #print 20 best features\n",
    "\n",
    "# plot feature importance\n",
    "pyplot.bar([x for x in range(len(importance))], importance)\n",
    "pyplot.show()"
   ]
  },
  {
   "cell_type": "markdown",
   "id": "4155bf8d",
   "metadata": {},
   "source": [
    "### Classification and Regression Trees - Random Forest Classifier"
   ]
  },
  {
   "cell_type": "code",
   "execution_count": 41,
   "id": "5d96998e",
   "metadata": {},
   "outputs": [
    {
     "name": "stdout",
     "output_type": "stream",
     "text": [
      "         Specs     Score\n",
      "51    bylaw_km  0.066116\n",
      "50     bark_km  0.065213\n",
      "57      bs_ave  0.065163\n",
      "49    noise_km  0.063540\n",
      "56      ws_ave  0.062788\n",
      "52    other_km  0.059902\n",
      "53    total_km  0.059477\n",
      "0    shp__area  0.051450\n",
      "55    trees_km  0.037938\n",
      "24     ave_val  0.014649\n",
      "22     ave_inc  0.014453\n",
      "23  median_val  0.013691\n",
      "54  school_sco  0.012904\n",
      "36    mast_pct  0.012521\n",
      "47  mvrs_1yr_p  0.011971\n",
      "1        DA_ID  0.011965\n",
      "34    bach_pct  0.011914\n",
      "26   owner_pct  0.011906\n",
      "48  mvrs_3yr_p  0.011772\n",
      "39  unemployme  0.011315\n"
     ]
    },
    {
     "data": {
      "image/png": "[encoded data removed]",
      "text/plain": [
       "<Figure size 432x288 with 1 Axes>"
      ]
     },
     "metadata": {
      "needs_background": "light"
     },
     "output_type": "display_data"
    }
   ],
   "source": [
    "# random forest for feature importance on a classification problem\n",
    "from sklearn.ensemble import RandomForestClassifier\n",
    "from matplotlib import pyplot\n",
    "\n",
    "# define the model\n",
    "model = RandomForestClassifier()\n",
    "\n",
    "# fit the model\n",
    "model.fit(X, y)\n",
    "\n",
    "# get importance\n",
    "importance = model.feature_importances_\n",
    "\n",
    "# assign importance and columns to dataframes\n",
    "dfimportance = pd.DataFrame(importance)\n",
    "dfcolumns = pd.DataFrame(X.columns)\n",
    "\n",
    "#concat two dataframes for better visualization \n",
    "featureScores = pd.concat([dfcolumns,dfimportance],axis=1)\n",
    "featureScores.columns = ['Specs','Score']  #naming the dataframe columns\n",
    "print(featureScores.nlargest(20,'Score'))  #print 20 best features\n",
    "\n",
    "# plot feature importance\n",
    "pyplot.bar([x for x in range(len(importance))], importance)\n",
    "pyplot.show()"
   ]
  },
  {
   "cell_type": "markdown",
   "id": "a56d25ee",
   "metadata": {},
   "source": [
    "### Univariate Selection - SelectKBest"
   ]
  },
  {
   "cell_type": "code",
   "execution_count": 42,
   "id": "aa2d68a0",
   "metadata": {},
   "outputs": [
    {
     "name": "stdout",
     "output_type": "stream",
     "text": [
      "         Specs         Score\n",
      "24     ave_val  6.842942e+06\n",
      "23  median_val  6.007249e+06\n",
      "0    shp__area  5.939020e+06\n",
      "22     ave_inc  9.911132e+05\n",
      "2     pop_2016  3.303927e+05\n",
      "32    highr_ed  2.339931e+05\n",
      "8    15_64_yrs  2.194554e+05\n",
      "4     pop_dens  1.976449e+05\n",
      "3     pop_2011  1.912996e+05\n",
      "40     commute  1.582375e+05\n",
      "52    other_km  1.480228e+05\n",
      "53    total_km  1.414658e+05\n",
      "31     rent_av  1.165330e+05\n",
      "33        bach  1.135900e+05\n",
      "7     0_14_yrs  1.065359e+05\n",
      "25       owner  9.800217e+04\n",
      "6   dwell_dens  9.711446e+04\n",
      "16   dwellings  9.572519e+04\n",
      "20    dwl_chld  6.748352e+04\n",
      "17       s_d_h  4.906422e+04\n"
     ]
    }
   ],
   "source": [
    "from sklearn.feature_selection import SelectKBest\n",
    "from sklearn.feature_selection import chi2\n",
    "\n",
    "#apply SelectKBest class to extract top 10 best features\n",
    "bestfeatures = SelectKBest(score_func=chi2, k=10)\n",
    "fit = bestfeatures.fit(X,y)\n",
    "dfscores = pd.DataFrame(fit.scores_)\n",
    "dfcolumns = pd.DataFrame(X.columns)\n",
    "\n",
    "#concat two dataframes for better visualization \n",
    "featureScores = pd.concat([dfcolumns,dfscores],axis=1)\n",
    "featureScores.columns = ['Specs','Score']  #naming the dataframe columns\n",
    "print(featureScores.nlargest(20,'Score'))  #print 20 best features\n"
   ]
  },
  {
   "cell_type": "markdown",
   "id": "32640d4d",
   "metadata": {},
   "source": [
    "### XGBoost Regression"
   ]
  },
  {
   "cell_type": "code",
   "execution_count": 43,
   "id": "dd8f053e",
   "metadata": {},
   "outputs": [
    {
     "name": "stdout",
     "output_type": "stream",
     "text": [
      "         Specs     Score\n",
      "24     ave_val  0.346046\n",
      "23  median_val  0.244949\n",
      "33        bach  0.057084\n",
      "30   rnt_30pls  0.023138\n",
      "54  school_sco  0.022595\n",
      "27       rentr  0.021244\n",
      "35        mast  0.020644\n",
      "37        doct  0.016884\n",
      "5    land_area  0.015844\n",
      "13   15_64_pct  0.013418\n",
      "28   rentr_pct  0.013147\n",
      "18   s_d_h_pct  0.012035\n",
      "11   20_24_pct  0.010537\n",
      "20    dwl_chld  0.010425\n",
      "34    bach_pct  0.009187\n",
      "12    0_14_pct  0.008872\n",
      "48  mvrs_3yr_p  0.008522\n",
      "44    walk_pct  0.008255\n",
      "50     bark_km  0.008211\n",
      "22     ave_inc  0.008140\n"
     ]
    },
    {
     "data": {
      "image/png": "[encoded data removed]",
      "text/plain": [
       "<Figure size 432x288 with 1 Axes>"
      ]
     },
     "metadata": {
      "needs_background": "light"
     },
     "output_type": "display_data"
    }
   ],
   "source": [
    "# xgboost for feature importance on a regression problem\n",
    "from xgboost import XGBRegressor\n",
    "from matplotlib import pyplot\n",
    "\n",
    "# define the model\n",
    "model = XGBRegressor()\n",
    "\n",
    "# fit the model\n",
    "model.fit(X, y)\n",
    "\n",
    "# get importance\n",
    "importance = model.feature_importances_\n",
    "\n",
    "# assign importance and columns to dataframes\n",
    "dfimportance = pd.DataFrame(importance)\n",
    "dfcolumns = pd.DataFrame(X.columns)\n",
    "\n",
    "#concat two dataframes for better visualization \n",
    "featureScores = pd.concat([dfcolumns,dfimportance],axis=1)\n",
    "featureScores.columns = ['Specs','Score']  #naming the dataframe columns\n",
    "print(featureScores.nlargest(20,'Score'))  #print 20 best features\n",
    "\n",
    "# plot feature importance\n",
    "pyplot.bar([x for x in range(len(importance))], importance)\n",
    "pyplot.show()"
   ]
  },
  {
   "cell_type": "markdown",
   "id": "8991d9a0",
   "metadata": {},
   "source": [
    "### XGBoost Classification"
   ]
  },
  {
   "cell_type": "code",
   "execution_count": 15,
   "id": "ab365393",
   "metadata": {},
   "outputs": [
    {
     "name": "stderr",
     "output_type": "stream",
     "text": [
      "C:\\Users\\Shane\\miniconda3\\lib\\site-packages\\xgboost\\sklearn.py:1224: UserWarning: The use of label encoder in XGBClassifier is deprecated and will be removed in a future release. To remove this warning, do the following: 1) Pass option use_label_encoder=False when constructing XGBClassifier object; and 2) Encode your labels (y) as integers starting with 0, i.e. 0, 1, 2, ..., [num_class - 1].\n",
      "  warnings.warn(label_encoder_deprecation_msg, UserWarning)\n"
     ]
    },
    {
     "name": "stdout",
     "output_type": "stream",
     "text": [
      "[20:19:34] WARNING: D:\\bld\\xgboost-split_1637426510059\\work\\src\\learner.cc:1115: Starting in XGBoost 1.3.0, the default evaluation metric used with the objective 'multi:softprob' was changed from 'merror' to 'mlogloss'. Explicitly set eval_metric if you'd like to restore the old behavior.\n",
      "         Specs     Score\n",
      "56  Ave_Rating  0.057602\n",
      "42     transit  0.038688\n",
      "15  65_pls_pct  0.037535\n",
      "35    bach_pct  0.036418\n",
      "71     TAX_AMT  0.031281\n",
      "72    LOT_DPTH  0.026527\n",
      "58   walkscore  0.024706\n",
      "25     ave_val  0.023750\n",
      "14   15_64_pct  0.022614\n",
      "54    total_km  0.022122\n",
      "24  median_val  0.022079\n",
      "62  LIST_PRICE  0.020124\n",
      "39    doct_pct  0.018385\n",
      "13    0_14_pct  0.018030\n",
      "7   dwell_dens  0.017667\n",
      "74         LAT  0.017634\n",
      "69     ASS_AMT  0.016886\n",
      "51     bark_km  0.014373\n",
      "49  mvrs_3yr_p  0.013049\n",
      "0   Shape__Are  0.012976\n"
     ]
    },
    {
     "data": {
      "image/png": "[encoded data removed]",
      "text/plain": [
       "<Figure size 432x288 with 1 Axes>"
      ]
     },
     "metadata": {
      "needs_background": "light"
     },
     "output_type": "display_data"
    }
   ],
   "source": [
    "# xgboost for feature importance on a classification problem\n",
    "from xgboost import XGBClassifier\n",
    "from matplotlib import pyplot\n",
    "\n",
    "# define the model\n",
    "model = XGBClassifier()\n",
    "\n",
    "# fit the model\n",
    "model.fit(X, y)\n",
    "\n",
    "# get importance\n",
    "importance = model.feature_importances_\n",
    "\n",
    "# assign importance and columns to dataframes\n",
    "dfimportance = pd.DataFrame(importance)\n",
    "dfcolumns = pd.DataFrame(X.columns)\n",
    "\n",
    "#concat two dataframes for better visualization \n",
    "featureScores = pd.concat([dfcolumns,dfimportance],axis=1)\n",
    "featureScores.columns = ['Specs','Score']  #naming the dataframe columns\n",
    "print(featureScores.nlargest(20,'Score'))  #print 20 best features\n",
    "\n",
    "# plot feature importance\n",
    "pyplot.bar([x for x in range(len(importance))], importance)\n",
    "pyplot.show()"
   ]
  },
  {
   "cell_type": "markdown",
   "id": "2ad8bafa",
   "metadata": {},
   "source": [
    "### Permutation Feature Importance for Regression"
   ]
  },
  {
   "cell_type": "code",
   "execution_count": 44,
   "id": "415251a8",
   "metadata": {},
   "outputs": [
    {
     "name": "stdout",
     "output_type": "stream",
     "text": [
      "         Specs         Score\n",
      "24     ave_val  3.166433e+10\n",
      "23  median_val  2.683767e+10\n",
      "0    shp__area  9.879977e+09\n",
      "22     ave_inc  2.887976e+09\n",
      "6   dwell_dens  2.973265e+07\n",
      "4     pop_dens  2.547171e+07\n",
      "2     pop_2016  2.159565e+07\n",
      "31     rent_av  1.581799e+07\n",
      "3     pop_2011  9.895029e+06\n",
      "32    highr_ed  5.961111e+06\n",
      "8    15_64_yrs  3.616064e+06\n",
      "40     commute  2.779491e+06\n",
      "7     0_14_yrs  1.882112e+06\n",
      "16   dwellings  1.776319e+06\n",
      "25       owner  1.776319e+06\n",
      "1        DA_ID  0.000000e+00\n",
      "5    land_area  0.000000e+00\n",
      "9   65_plus_yr  0.000000e+00\n",
      "10   20_24_yrs  0.000000e+00\n",
      "11   20_24_pct  0.000000e+00\n"
     ]
    },
    {
     "data": {
      "image/png": "[encoded data removed]",
      "text/plain": [
       "<Figure size 432x288 with 1 Axes>"
      ]
     },
     "metadata": {
      "needs_background": "light"
     },
     "output_type": "display_data"
    }
   ],
   "source": [
    "# permutation feature importance with knn for regression\n",
    "from sklearn.neighbors import KNeighborsRegressor\n",
    "from sklearn.inspection import permutation_importance\n",
    "from matplotlib import pyplot\n",
    "\n",
    "# define the model\n",
    "model = KNeighborsRegressor()\n",
    "\n",
    "# fit the model\n",
    "model.fit(X, y)\n",
    "\n",
    "# perform permutation importance\n",
    "results = permutation_importance(model, X, y, scoring='neg_mean_squared_error')\n",
    "\n",
    "# get importance\n",
    "importance = results.importances_mean\n",
    "\n",
    "# assign importance and columns to dataframes\n",
    "dfimportance = pd.DataFrame(importance)\n",
    "dfcolumns = pd.DataFrame(X.columns)\n",
    "\n",
    "#concat two dataframes for better visualization \n",
    "featureScores = pd.concat([dfcolumns,dfimportance],axis=1)\n",
    "featureScores.columns = ['Specs','Score']  #naming the dataframe columns\n",
    "print(featureScores.nlargest(20,'Score'))  #print 20 best features\n",
    "\n",
    "# plot feature importance\n",
    "pyplot.bar([x for x in range(len(importance))], importance)\n",
    "pyplot.show()"
   ]
  },
  {
   "cell_type": "markdown",
   "id": "c750af02",
   "metadata": {},
   "source": [
    "### Permutation Feature Importance for Classification"
   ]
  },
  {
   "cell_type": "code",
   "execution_count": 46,
   "id": "5f25f6ac",
   "metadata": {},
   "outputs": [
    {
     "name": "stdout",
     "output_type": "stream",
     "text": [
      "         Specs         Score\n",
      "24     ave_val  3.166433e+10\n",
      "23  median_val  2.683767e+10\n",
      "0    shp__area  9.879977e+09\n",
      "22     ave_inc  2.887976e+09\n",
      "6   dwell_dens  2.973265e+07\n",
      "4     pop_dens  2.547171e+07\n",
      "2     pop_2016  2.159565e+07\n",
      "31     rent_av  1.581799e+07\n",
      "3     pop_2011  9.895029e+06\n",
      "32    highr_ed  5.961111e+06\n",
      "8    15_64_yrs  3.616064e+06\n",
      "40     commute  2.779491e+06\n",
      "7     0_14_yrs  1.882112e+06\n",
      "16   dwellings  1.776319e+06\n",
      "25       owner  1.776319e+06\n",
      "1        DA_ID  0.000000e+00\n",
      "5    land_area  0.000000e+00\n",
      "9   65_plus_yr  0.000000e+00\n",
      "10   20_24_yrs  0.000000e+00\n",
      "11   20_24_pct  0.000000e+00\n"
     ]
    },
    {
     "data": {
      "image/png": "[encoded data removed]",
      "text/plain": [
       "<Figure size 432x288 with 1 Axes>"
      ]
     },
     "metadata": {
      "needs_background": "light"
     },
     "output_type": "display_data"
    }
   ],
   "source": [
    "# permutation feature importance with knn for classification\n",
    "from sklearn.neighbors import KNeighborsClassifier\n",
    "from sklearn.inspection import permutation_importance\n",
    "from matplotlib import pyplot\n",
    "\n",
    "# define the model\n",
    "model = KNeighborsClassifier()\n",
    "\n",
    "# fit the model\n",
    "model.fit(X, y)\n",
    "\n",
    "# assign importance and columns to dataframes\n",
    "dfimportance = pd.DataFrame(importance)\n",
    "dfcolumns = pd.DataFrame(X.columns)\n",
    "\n",
    "#concat two dataframes for better visualization \n",
    "featureScores = pd.concat([dfcolumns,dfimportance],axis=1)\n",
    "featureScores.columns = ['Specs','Score']  #naming the dataframe columns\n",
    "print(featureScores.nlargest(20,'Score'))  #print 20 best features\n",
    "\n",
    "# plot feature importance\n",
    "pyplot.bar([x for x in range(len(importance))], importance)\n",
    "pyplot.show()"
   ]
  },
  {
   "cell_type": "markdown",
   "id": "0e79cb59",
   "metadata": {},
   "source": [
    "## Feature Selection with Importance"
   ]
  },
  {
   "cell_type": "code",
   "execution_count": 25,
   "id": "69e2a647",
   "metadata": {},
   "outputs": [
    {
     "name": "stdout",
     "output_type": "stream",
     "text": [
      "Accuracy: 84.55\n"
     ]
    }
   ],
   "source": [
    "# evaluation of a model using 5 features chosen with random forest importance\n",
    "from sklearn.datasets import make_classification\n",
    "from sklearn.model_selection import train_test_split\n",
    "from sklearn.feature_selection import SelectFromModel\n",
    "from sklearn.ensemble import RandomForestClassifier\n",
    "from sklearn.linear_model import LogisticRegression\n",
    "from sklearn.metrics import accuracy_score\n",
    "\n",
    "# feature selection\n",
    "def select_features(X_train, y_train, X_test):\n",
    "\t# configure to select a subset of features\n",
    "\tfs = SelectFromModel(RandomForestClassifier(n_estimators=1000), max_features=5)\n",
    "\t# learn relationship from training data\n",
    "\tfs.fit(X_train, y_train)\n",
    "\t# transform train input data\n",
    "\tX_train_fs = fs.transform(X_train)\n",
    "\t# transform test input data\n",
    "\tX_test_fs = fs.transform(X_test)\n",
    "\treturn X_train_fs, X_test_fs, fs\n",
    "\n",
    "# define the dataset\n",
    "X, y = make_classification(n_samples=1000, n_features=10, n_informative=5, n_redundant=5, random_state=1)\n",
    "\n",
    "# split into train and test sets\n",
    "X_train, X_test, y_train, y_test = train_test_split(X, y, test_size=0.33, random_state=1)\n",
    "\n",
    "# feature selection\n",
    "X_train_fs, X_test_fs, fs = select_features(X_train, y_train, X_test)\n",
    "\n",
    "# fit the model\n",
    "model = LogisticRegression(solver='liblinear')\n",
    "model.fit(X_train_fs, y_train)\n",
    "\n",
    "# evaluate the model\n",
    "yhat = model.predict(X_test_fs)\n",
    "\n",
    "# evaluate predictions\n",
    "accuracy = accuracy_score(y_test, yhat)\n",
    "print('Accuracy: %.2f' % (accuracy*100))\n"
   ]
  },
  {
   "cell_type": "markdown",
   "id": "2cdf7668",
   "metadata": {},
   "source": [
    "# =END OF WORKING CODE= "
   ]
  },
  {
   "cell_type": "markdown",
   "id": "83dd686a",
   "metadata": {},
   "source": [
    "### Linear Regression Feature Importance\n",
    "##### This assumes that the input variables have the same scale or have been scaled prior to fitting a model.\n"
   ]
  },
  {
   "cell_type": "code",
   "execution_count": null,
   "id": "95c7cf81",
   "metadata": {},
   "outputs": [],
   "source": [
    "# linear regression feature importance\n",
    "from sklearn.datasets import make_regression\n",
    "from sklearn.linear_model import LinearRegression\n",
    "from matplotlib import pyplot\n",
    "\n",
    "# define the model\n",
    "model = LinearRegression()\n",
    "\n",
    "# fit the model\n",
    "model.fit(X, y)\n",
    "\n",
    "# get importance\n",
    "importance = model.coef_\n",
    "\n",
    "# assign importance and columns to dataframes\n",
    "dfimportance = pd.DataFrame(importance)\n",
    "dfcolumns = pd.DataFrame(X.columns)\n",
    "\n",
    "#concat two dataframes for better visualization \n",
    "featureScores = pd.concat([dfcolumns,dfimportance],axis=1)\n",
    "featureScores.columns = ['Specs','Score']  #naming the dataframe columns\n",
    "print(featureScores.nlargest(20,'Score'))  #print 20 best features\n",
    "\n",
    "# plot feature importance\n",
    "pyplot.bar([x for x in range(len(importance))], importance)\n",
    "pyplot.show()\n"
   ]
  }
 ],
 "metadata": {
  "interpreter": {
   "hash": "329be4360984adccd2a89186caf100ba561a36e0758e1e64a4fb4d77c807baf4"
  },
  "kernelspec": {
   "display_name": "Python 3.8.8 64-bit ('base': conda)",
   "name": "python3"
  },
  "language_info": {
   "codemirror_mode": {
    "name": "ipython",
    "version": 3
   },
   "file_extension": ".py",
   "mimetype": "text/x-python",
   "name": "python",
   "nbconvert_exporter": "python",
   "pygments_lexer": "ipython3",
   "version": "3.9.5"
  }
 },
 "nbformat": 4,
 "nbformat_minor": 5
}
