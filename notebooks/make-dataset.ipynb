{
 "cells": [
  {
   "cell_type": "code",
   "execution_count": 4,
   "metadata": {},
   "outputs": [],
   "source": [
    "import geopandas as gpd\n",
    "import pandas as pd"
   ]
  },
  {
   "cell_type": "code",
   "execution_count": 5,
   "metadata": {},
   "outputs": [],
   "source": [
    "# load the cleaned home sales data\n",
    "file_path = '..\\\\data\\\\sales-data-clean.csv'\n",
    "df_sales_data = pd.read_csv(file_path)"
   ]
  },
  {
   "cell_type": "code",
   "execution_count": 6,
   "metadata": {},
   "outputs": [],
   "source": [
    "# load the single family dwelling (sfd) properties shapefile\n",
    "properties_shp_file_path = '..\\\\..\\\\..\\\\guelph-data-science\\\\data\\\\processed\\\\GIT-shps\\\\properties-sfd.shp'\n",
    "gdf_properties = gpd.read_file(properties_shp_file_path)\n",
    "\n",
    "# create a new Series 'ADDRESS' to be merged with df_sales_data['ADDRESS']\n",
    "gdf_properties['ADDRESS'] = gdf_properties['address'].str.upper()"
   ]
  },
  {
   "cell_type": "code",
   "execution_count": 7,
   "metadata": {},
   "outputs": [],
   "source": [
    "# convert the properties geodataframe to a pandas dataframe\n",
    "df_properties = pd.DataFrame(gdf_properties.drop(columns='geometry'))"
   ]
  },
  {
   "cell_type": "code",
   "execution_count": 8,
   "metadata": {},
   "outputs": [],
   "source": [
    "# merge/split dataframes using pandas merge() function\n",
    "# creating one dataframe of properties with sales and\n",
    "# another dataframe with properties without sales\n",
    "\n",
    "props_w_sales = pd.merge(df_properties, df_sales_data)\n",
    "\n",
    "merged_left = pd.merge(df_properties, df_sales_data, how='left')\n",
    "props_wo_sales = merged_left[merged_left['LIST_PRICE'].isnull()]"
   ]
  },
  {
   "cell_type": "code",
   "execution_count": 9,
   "metadata": {},
   "outputs": [
    {
     "name": "stdout",
     "output_type": "stream",
     "text": [
      "Properties with sales: 469\n",
      "Properties without sales: 28515\n"
     ]
    }
   ],
   "source": [
    "# output properties with sales to train.csv\n",
    "train_output_file_path = '..\\\\data\\\\train.csv'\n",
    "props_w_sales.to_csv(train_output_file_path) \n",
    "print(f\"Properties with sales: {len(props_w_sales)}\")\n",
    "\n",
    "# output properties without sales to predict.csv\n",
    "predict_output_file_path = '..\\\\data\\\\predict.csv'\n",
    "props_wo_sales.to_csv(predict_output_file_path) \n",
    "print(f\"Properties without sales: {len(props_wo_sales)}\")"
   ]
  },
  {
   "cell_type": "markdown",
   "metadata": {},
   "source": [
    "# =SCRATCH="
   ]
  },
  {
   "cell_type": "code",
   "execution_count": null,
   "metadata": {},
   "outputs": [],
   "source": [
    "import shapefile #the pyshp module \n",
    "import pandas as pd\n",
    "\n",
    "#read file, parse out the records and shapes \n",
    "shapefile_path = r'path/to/shapefile/'\n",
    "sf = shapefile.Reader(shapefile_path)\n",
    "\n",
    "#grab the shapefile's field names (omit the first psuedo field) \n",
    "fields = [x[0] for x in sf.fields][1:]\n",
    "records = sf.records()\n",
    "shps = [s.points for s in sf.shapes()]\n",
    "\n",
    "#write the records into a dataframe \n",
    "shapefile_dataframe = pd.DataFrame(columns=fields, data=records)\n",
    "\n",
    "#add the coordinate data to a column called \"coords\" \n",
    "shapefile_dataframe = shapefile_dataframe.assign(coords=shps)\n"
   ]
  }
 ],
 "metadata": {
  "interpreter": {
   "hash": "3fdc24e94d9d4b8ec0b0c0105ce6fd9ca7683c74cc7c50a55dd904fac50af712"
  },
  "kernelspec": {
   "display_name": "Python 3.9.5 64-bit ('base': conda)",
   "language": "python",
   "name": "python3"
  },
  "language_info": {
   "codemirror_mode": {
    "name": "ipython",
    "version": 3
   },
   "file_extension": ".py",
   "mimetype": "text/x-python",
   "name": "python",
   "nbconvert_exporter": "python",
   "pygments_lexer": "ipython3",
   "version": "3.10.0"
  },
  "orig_nbformat": 4
 },
 "nbformat": 4,
 "nbformat_minor": 2
}
