{
 "cells": [
  {
   "cell_type": "code",
   "execution_count": 1,
   "id": "5ec55160",
   "metadata": {},
   "outputs": [],
   "source": [
    "import pandas as pd\n",
    "import numpy as np\n",
    "\n",
    "from sklearn.metrics import mean_absolute_error\n",
    "from sklearn.model_selection import train_test_split\n",
    "from sklearn.model_selection import cross_val_score"
   ]
  },
  {
   "cell_type": "markdown",
   "id": "c2ad1b8b",
   "metadata": {},
   "source": [
    "### SALES DATASET PREPARATION"
   ]
  },
  {
   "cell_type": "code",
   "execution_count": null,
   "id": "60870165",
   "metadata": {},
   "outputs": [],
   "source": [
    "# find corretations between the features and target\n",
    "corr_matrix = training_data.corr()\n",
    "corr_matrix[\"SELL_PRICE\"].sort_values(ascending=False)\n",
    "\n",
    "# filter the nth most correlated features into a features list\n",
    "cond1 = ( abs(corr_matrix['SELL_PRICE']) > 0.3 )    # include greater than 0.2 correlation \n",
    "cond2 = ( abs(corr_matrix['SELL_PRICE']) < 1 )      # exclude SELL_PRICE (corr = 1)\n",
    "filterinfDataframe = corr_matrix[\"SELL_PRICE\"][cond1 & cond2]\n",
    "\n",
    "filterinfDataframe = filterinfDataframe.nlargest(n=30)\n",
    "features = filterinfDataframe.index.tolist()\n",
    "features"
   ]
  },
  {
   "cell_type": "code",
   "execution_count": 39,
   "metadata": {},
   "outputs": [
    {
     "name": "stdout",
     "output_type": "stream",
     "text": [
      "Dataset upload complete. Dataset comprises 55 entries.\n",
      "Dataset split into 49 training data points and 6 validation points.\n"
     ]
    }
   ],
   "source": [
    "# LOAD SALES DATASET\n",
    "\n",
    "# define the dataset\n",
    "training_data = pd.read_csv('..\\\\data\\\\train.csv', index_col='ADDRESS')\n",
    "training_data = training_data.select_dtypes(include=[np.number])\n",
    "\n",
    "# drop data columns\n",
    "#training_data = training_data.drop(training_data.loc[:, 'shp__area':'bs_ave'], axis=1)\n",
    "training_data = training_data.dropna(axis=0)\n",
    "\n",
    "features = [\n",
    "    'TAX_AMT',\n",
    "    'SIZE_SQFT',\n",
    "    'median_val',\n",
    "    'ave_val',\n",
    "    'bach_pct',\n",
    "    'LOT_DPTH',\n",
    "    'mast_pct',\n",
    "    'school_sco',\n",
    "    'ave_inc',\n",
    "    'BDRMS',\n",
    "    'doct',\n",
    "    'mast',\n",
    "    'pop_chng_p',\n",
    "    'doct_pct',\n",
    "    'rnt_30pls',\n",
    "    'bach',\n",
    "    'LON',\n",
    "    'mvrs_3yr_p',\n",
    "    'rent_av',\n",
    "    's_d_h_pct',\n",
    "    'trees_km',\n",
    "    'bark_km'\n",
    "    ]\n",
    "\n",
    "X = training_data[features]\n",
    "\n",
    "# define X and y\n",
    "#X = training_data.loc[:, training_data.columns != 'SELL_PRICE']  #all columns except 'SELL_PRICE'\n",
    "y = training_data.SELL_PRICE   #target column i.e. price range\n",
    "\n",
    "print(f\"Dataset upload complete. Dataset comprises {len(X)} entries.\")\n",
    "\n",
    "# split dataset into validation and training data\n",
    "X_train, X_val, y_train, y_val = train_test_split(X, y, test_size=0.1, random_state=1)\n",
    "\n",
    "print(f\"Dataset split into {len(X_train)} training data points and {len(X_val)} validation points.\")"
   ]
  },
  {
   "cell_type": "markdown",
   "id": "86c1b8e3",
   "metadata": {},
   "source": [
    "### PROPERTIES DATASET PREPARATION"
   ]
  },
  {
   "cell_type": "code",
   "execution_count": null,
   "id": "790c4ea1",
   "metadata": {},
   "outputs": [],
   "source": [
    "# LOAD PROPERTIES DATASET\n",
    "\n",
    "# define the dataset\n",
    "training_data = pd.read_csv('..\\\\data\\\\train.csv', index_col='ADDRESS')\n",
    "training_data = training_data.select_dtypes(include=[np.number])\n",
    "\n",
    "# drop sales data columns\n",
    "training_data = training_data.drop(training_data.loc[:, 'DOM':], axis=1)\n",
    "training_data = training_data.dropna(axis=0)\n",
    "\n",
    "# define X and y\n",
    "X = training_data.loc[:, 'shp__area':'bs_ave']\n",
    "y = training_data.SELL_PRICE   #target column i.e. price range\n",
    "\n",
    "print(f\"Dataset upload complete. Dataset comprises {len(X)} entries.\")\n",
    "\n",
    "# split dataset into validation and training data\n",
    "X_train, X_val, y_train, y_val = train_test_split(X, y, test_size=0.1, random_state=1)\n",
    "\n",
    "print(f\"Dataset split into {len(X_train)} training data points and {len(X_val)} validation points.\")"
   ]
  },
  {
   "cell_type": "markdown",
   "id": "a5541709",
   "metadata": {},
   "source": [
    "### MODEL EVALUATION"
   ]
  },
  {
   "cell_type": "code",
   "execution_count": 40,
   "id": "9025582e",
   "metadata": {},
   "outputs": [],
   "source": [
    "from sklearn.linear_model import ElasticNet\n",
    "from sklearn.linear_model import Lasso\n",
    "from sklearn.linear_model import LinearRegression\n",
    "from sklearn.tree import DecisionTreeRegressor\n",
    "from sklearn.ensemble import GradientBoostingRegressor\n",
    "from sklearn.ensemble import RandomForestRegressor\n",
    "from xgboost import XGBRegressor\n",
    "\n",
    "# models to evaluate\n",
    "models = {\n",
    "    #'linearregression_model': LinearRegression(),\n",
    "    #'elasticnet_model': ElasticNet(alpha = 0.1, random_state = 1),\n",
    "    #'lasso_model': Lasso(alpha = 0.1, random_state = 1),\n",
    "    #'dtr_model': DecisionTreeRegressor(random_state=1),\n",
    "    'dtr_mln_training_model': DecisionTreeRegressor(max_leaf_nodes=100, random_state=1),\n",
    "    'rf_model': RandomForestRegressor(random_state=1),\n",
    "    'gbr_model': GradientBoostingRegressor(random_state=1), \n",
    "    'XGBR_model': XGBRegressor(n_estimators=1000, learning_rate=0.05)\n",
    "    }"
   ]
  },
  {
   "cell_type": "code",
   "execution_count": 47,
   "id": "c16abe52",
   "metadata": {},
   "outputs": [],
   "source": [
    "# function for comparing different approaches\n",
    "def score_models(model, X_train, X_val, y_train, y_val):\n",
    "    # specify training model\n",
    "    training_model = model\n",
    "    # fit training model\n",
    "    training_model.fit(X_train, y_train)\n",
    "    # make validation predictions on the validation data\n",
    "    validation_predictions = training_model.predict(X_val)\n",
    "    # calculate mean absolute error on the validation data\n",
    "    validation_mae = mean_absolute_error(validation_predictions, y_val)\n",
    "    # calculate model score\n",
    "    model_score = training_model.score(X_val, y_val)\n",
    "    return validation_mae, model_score\n",
    "\n",
    "def score_models_k_folds(model, X, y,):\n",
    "    k_folds_scores = -1 * cross_val_score(model, X, y,\n",
    "                                cv=10,               \n",
    "                                scoring='neg_mean_absolute_error')\n",
    "    mean_k_folds_score = k_folds_scores.mean()\n",
    "    return mean_k_folds_score\n",
    "\n",
    "# create pandas DataFrame to store model evaluation results\n",
    "df_model_scores = pd.DataFrame({'model':[],\n",
    "                                'CoD':[],\n",
    "                                'MAE':[],\n",
    "                                'k-folds_MAE':[]})\n",
    "\n",
    "\n",
    "for model_key in models:\n",
    "    model = models[model_key]\n",
    "    validation_mae, model_score = score_models(model, X_train, X_val, y_train, y_val)\n",
    "    mean_k_folds_score = score_models_k_folds(model, X, y)\n",
    "\n",
    "    # create pandas Series object with all the column values passed as a Python list\n",
    "    s_row = pd.Series([model_key, \n",
    "                        model_score, \n",
    "                        validation_mae, \n",
    "                        mean_k_folds_score], \n",
    "                        index=df_model_scores.columns)\n",
    " \n",
    "    # append pandas Series object as a row to the existing pandas DataFrame\n",
    "    df_model_scores = df_model_scores.append(s_row,ignore_index=True)\n"
   ]
  },
  {
   "cell_type": "code",
   "execution_count": 48,
   "id": "aa1ecff2",
   "metadata": {},
   "outputs": [
    {
     "data": {
      "text/html": [
       "<div>\n",
       "<style scoped>\n",
       "    .dataframe tbody tr th:only-of-type {\n",
       "        vertical-align: middle;\n",
       "    }\n",
       "\n",
       "    .dataframe tbody tr th {\n",
       "        vertical-align: top;\n",
       "    }\n",
       "\n",
       "    .dataframe thead th {\n",
       "        text-align: right;\n",
       "    }\n",
       "</style>\n",
       "<table border=\"1\" class=\"dataframe\">\n",
       "  <thead>\n",
       "    <tr style=\"text-align: right;\">\n",
       "      <th></th>\n",
       "      <th>model</th>\n",
       "      <th>CoD</th>\n",
       "      <th>MAE</th>\n",
       "      <th>k-folds_MAE</th>\n",
       "    </tr>\n",
       "  </thead>\n",
       "  <tbody>\n",
       "    <tr>\n",
       "      <th>2</th>\n",
       "      <td>gbr_model</td>\n",
       "      <td>0.499581</td>\n",
       "      <td>122214.132857</td>\n",
       "      <td>144524.312246</td>\n",
       "    </tr>\n",
       "    <tr>\n",
       "      <th>1</th>\n",
       "      <td>rf_model</td>\n",
       "      <td>0.516541</td>\n",
       "      <td>125474.285372</td>\n",
       "      <td>146065.579947</td>\n",
       "    </tr>\n",
       "    <tr>\n",
       "      <th>3</th>\n",
       "      <td>XGBR_model</td>\n",
       "      <td>0.500030</td>\n",
       "      <td>126913.235372</td>\n",
       "      <td>152623.701515</td>\n",
       "    </tr>\n",
       "    <tr>\n",
       "      <th>0</th>\n",
       "      <td>dtr_mln_training_model</td>\n",
       "      <td>0.204827</td>\n",
       "      <td>153639.482909</td>\n",
       "      <td>190139.614893</td>\n",
       "    </tr>\n",
       "  </tbody>\n",
       "</table>\n",
       "</div>"
      ],
      "text/plain": [
       "                    model       CoD            MAE    k-folds_MAE\n",
       "2               gbr_model  0.499581  122214.132857  144524.312246\n",
       "1                rf_model  0.516541  125474.285372  146065.579947\n",
       "3              XGBR_model  0.500030  126913.235372  152623.701515\n",
       "0  dtr_mln_training_model  0.204827  153639.482909  190139.614893"
      ]
     },
     "execution_count": 48,
     "metadata": {},
     "output_type": "execute_result"
    }
   ],
   "source": [
    "df_model_scores.sort_values('MAE')\n"
   ]
  },
  {
   "cell_type": "code",
   "execution_count": 44,
   "id": "3a8a2682",
   "metadata": {},
   "outputs": [
    {
     "name": "stdout",
     "output_type": "stream",
     "text": [
      "R^2 is: \n",
      " 0.8920477906014216\n",
      "MAE is: \n",
      " 52383.333333333336\n"
     ]
    }
   ],
   "source": [
    "# DECISION TREE REGRESSOR \n",
    "from sklearn.tree import DecisionTreeRegressor\n",
    "\n",
    "# specify training model\n",
    "dtr_mln_training_model = DecisionTreeRegressor(max_leaf_nodes=100, random_state=1)\n",
    "# fit training model\n",
    "dtr_mln_training_model.fit(X_train, y_train)\n",
    "# make validation predictions on the validation data\n",
    "validation_predictions = dtr_mln_training_model.predict(X_val)\n",
    "# calculate mean absolute error on the validation data\n",
    "validation_mae = mean_absolute_error(validation_predictions, y_val)\n",
    "\n",
    "print (\"R^2 is: \\n\", dtr_mln_training_model.score(X_val, y_val))\n",
    "print (\"MAE is: \\n\", validation_mae)"
   ]
  },
  {
   "cell_type": "code",
   "execution_count": 3,
   "id": "9efa18a0",
   "metadata": {},
   "outputs": [
    {
     "name": "stdout",
     "output_type": "stream",
     "text": [
      "R^2 is: \n",
      " 0.4995814625493925\n",
      "MAE is: \n",
      " 122214.13285673539\n"
     ]
    }
   ],
   "source": [
    "# GRADIENT BOOSTING REGRESSOR \n",
    "from sklearn.ensemble import GradientBoostingRegressor\n",
    "\n",
    "# specify training model\n",
    "gbr_model = GradientBoostingRegressor(random_state=1)\n",
    "# fit training model\n",
    "gbr_model.fit(X_train, y_train)\n",
    "# make validation predictions on the validation data\n",
    "validation_predictions = gbr_model.predict(X_val)\n",
    "# calculate mean absolute error on the validation data\n",
    "validation_mae = mean_absolute_error(validation_predictions, y_val)\n",
    "\n",
    "print (\"R^2 is: \\n\", gbr_model.score(X_val, y_val))\n",
    "print (\"MAE is: \\n\", validation_mae)"
   ]
  },
  {
   "cell_type": "code",
   "execution_count": 150,
   "id": "ce67c200",
   "metadata": {},
   "outputs": [
    {
     "data": {
      "text/plain": [
       "Text(0.5, 1.0, 'GradientBoostingRegressor Model')"
      ]
     },
     "execution_count": 150,
     "metadata": {},
     "output_type": "execute_result"
    },
    {
     "data": {
      "image/png": "[encoded data removed]",
      "text/plain": [
       "<Figure size 432x288 with 1 Axes>"
      ]
     },
     "metadata": {
      "needs_background": "light"
     },
     "output_type": "display_data"
    }
   ],
   "source": [
    "import matplotlib.pyplot as plt\n",
    "\n",
    "predictions = gbr_model.predict(X_val)\n",
    "actual_values = y_val\n",
    "\n",
    "plt.scatter(predictions, actual_values, alpha=.75,\n",
    "            color='b') #alpha helps to show overlapping data\n",
    "plt.xlabel('Predicted Price')\n",
    "plt.ylabel('Actual Price')\n",
    "plt.title('GradientBoostingRegressor Model')"
   ]
  },
  {
   "cell_type": "code",
   "execution_count": 7,
   "id": "abfa3f14",
   "metadata": {},
   "outputs": [
    {
     "name": "stdout",
     "output_type": "stream",
     "text": [
      "Mean Absolute Error: 127133.55585106384\n"
     ]
    }
   ],
   "source": [
    "# XGBOOST\n",
    "from xgboost import XGBRegressor\n",
    "\n",
    "XGBR_model = XGBRegressor(n_estimators=1000, learning_rate=0.05)\n",
    "XGBR_model.fit(X_train, y_train, \n",
    "             early_stopping_rounds=5, \n",
    "             eval_set=[(X_val, y_val)],\n",
    "             verbose=False)\n",
    "\n",
    "predictions = XGBR_model.predict(X_val)\n",
    "\n",
    "print(\"Mean Absolute Error: \" + str(mean_absolute_error(predictions, y_val)))"
   ]
  },
  {
   "cell_type": "code",
   "execution_count": 137,
   "id": "4c1c10fc",
   "metadata": {},
   "outputs": [
    {
     "name": "stdout",
     "output_type": "stream",
     "text": [
      "R^2 is: \n",
      " 0.31784507380195826\n",
      "MAE is: \n",
      " 132267.43803760855\n"
     ]
    },
    {
     "name": "stderr",
     "output_type": "stream",
     "text": [
      "C:\\Users\\Shane\\miniconda3\\lib\\site-packages\\sklearn\\linear_model\\_coordinate_descent.py:647: ConvergenceWarning: Objective did not converge. You might want to increase the number of iterations, check the scale of the features or consider increasing regularisation. Duality gap: 5.673e+12, tolerance: 2.461e+09\n",
      "  model = cd_fast.enet_coordinate_descent(\n"
     ]
    }
   ],
   "source": [
    "# ELASTIC-NET \n",
    "from sklearn.linear_model import ElasticNet\n",
    "\n",
    "# specify training model\n",
    "en_model = ElasticNet(alpha = 0.1, random_state = 1)\n",
    "# fit training model\n",
    "en_model.fit(X_train, y_train)\n",
    "# make validation predictions on the validation data\n",
    "validation_predictions = en_model.predict(X_val)\n",
    "# calculate mean absolute error on the validation data\n",
    "validation_mae = mean_absolute_error(validation_predictions, y_val)\n",
    "\n",
    "print (\"R^2 is: \\n\", en_model.score(X_val, y_val))\n",
    "print (\"MAE is: \\n\", validation_mae)"
   ]
  },
  {
   "cell_type": "code",
   "execution_count": 138,
   "id": "d93063aa",
   "metadata": {},
   "outputs": [
    {
     "name": "stdout",
     "output_type": "stream",
     "text": [
      "R^2 is: \n",
      " 0.3125024216034511\n",
      "MAE is: \n",
      " 135947.23713193042\n"
     ]
    },
    {
     "name": "stderr",
     "output_type": "stream",
     "text": [
      "C:\\Users\\Shane\\miniconda3\\lib\\site-packages\\sklearn\\linear_model\\_coordinate_descent.py:647: ConvergenceWarning: Objective did not converge. You might want to increase the number of iterations, check the scale of the features or consider increasing regularisation. Duality gap: 5.642e+12, tolerance: 2.461e+09\n",
      "  model = cd_fast.enet_coordinate_descent(\n"
     ]
    }
   ],
   "source": [
    "# LASSO\n",
    "from sklearn.linear_model import Lasso\n",
    "\n",
    "# specify training model\n",
    "lasso_model = Lasso(alpha = 0.1, random_state = 1)\n",
    "# fit training model\n",
    "lasso_model.fit(X_train, y_train)\n",
    "# make validation predictions on the validation data\n",
    "validation_predictions = lasso_model.predict(X_val)\n",
    "# calculate mean absolute error on the validation data\n",
    "validation_mae = mean_absolute_error(validation_predictions, y_val)\n",
    "\n",
    "print (\"R^2 is: \\n\", lasso_model.score(X_val, y_val))\n",
    "print (\"MAE is: \\n\", validation_mae)"
   ]
  },
  {
   "cell_type": "code",
   "execution_count": 154,
   "id": "7e807ec8",
   "metadata": {},
   "outputs": [
    {
     "name": "stdout",
     "output_type": "stream",
     "text": [
      "R^2 is: \n",
      " 0.29099446258399886\n",
      "MAE is: \n",
      " 139095.1180729156\n"
     ]
    }
   ],
   "source": [
    "# LINEAR REGRESSION\n",
    "from sklearn.linear_model import LinearRegression\n",
    "\n",
    "# specify training model\n",
    "lr_model = LinearRegression()\n",
    "# fit training model\n",
    "lr_model.fit(X_train, y_train)\n",
    "# make validation predictions on the validation data\n",
    "validation_predictions = lr_model.predict(X_val)\n",
    "# calculate mean absolute error on the validation data\n",
    "validation_mae = mean_absolute_error(validation_predictions, y_val)\n",
    "\n",
    "print (\"R^2 is: \\n\", lr_model.score(X_val, y_val))\n",
    "print (\"MAE is: \\n\", validation_mae)"
   ]
  },
  {
   "cell_type": "markdown",
   "id": "e0a1a3b5",
   "metadata": {},
   "source": [
    "### === END OF WORKING CODE ==="
   ]
  },
  {
   "cell_type": "markdown",
   "id": "001b23c6",
   "metadata": {},
   "source": [
    "### IMPUTER"
   ]
  },
  {
   "cell_type": "code",
   "execution_count": null,
   "id": "4b723b9f",
   "metadata": {},
   "outputs": [],
   "source": [
    "# DEALING WITH NA VALUES\n",
    "from sklearn.impute import SimpleImputer\n",
    "\n",
    "# imputation\n",
    "my_imputer = SimpleImputer()\n",
    "imputed_X_train = pd.DataFrame(my_imputer.fit_transform(X_train))\n",
    "imputed_X_val = pd.DataFrame(my_imputer.transform(X_val))\n",
    "\n",
    "# imputation removed column names; put them back\n",
    "imputed_X_train.columns = X_train.columns\n",
    "imputed_X_val.columns = X_val.columns"
   ]
  }
 ],
 "metadata": {
  "interpreter": {
   "hash": "329be4360984adccd2a89186caf100ba561a36e0758e1e64a4fb4d77c807baf4"
  },
  "kernelspec": {
   "display_name": "Python 3.8.8 64-bit ('base': conda)",
   "name": "python3"
  },
  "language_info": {
   "codemirror_mode": {
    "name": "ipython",
    "version": 3
   },
   "file_extension": ".py",
   "mimetype": "text/x-python",
   "name": "python",
   "nbconvert_exporter": "python",
   "pygments_lexer": "ipython3",
   "version": "3.9.5"
  }
 },
 "nbformat": 4,
 "nbformat_minor": 5
}
