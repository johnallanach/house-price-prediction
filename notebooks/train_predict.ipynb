{
 "cells": [
  {
   "cell_type": "markdown",
   "id": "53b16eff",
   "metadata": {},
   "source": [
    "### TRAINING MODEL"
   ]
  },
  {
   "cell_type": "code",
   "execution_count": 26,
   "id": "8a92e268",
   "metadata": {},
   "outputs": [
    {
     "name": "stdout",
     "output_type": "stream",
     "text": [
      "Splitting the data...\n",
      "Dataset split into 417 training data points and 47 validation points.\n",
      "Training the model...\n",
      "Testing the model accuracy...\n",
      "Mean Absolute Error (MAE): $158,467\n"
     ]
    }
   ],
   "source": [
    "import numpy as np\n",
    "import pandas as pd\n",
    "\n",
    "from sklearn.ensemble import RandomForestRegressor\n",
    "from sklearn.metrics import mean_absolute_error\n",
    "from sklearn.model_selection import train_test_split\n",
    "from sklearn.preprocessing import OneHotEncoder\n",
    "\n",
    "\n",
    "\n",
    "def create_train_test_data(dataset):\n",
    "\n",
    "    print(\"Splitting the data...\")\n",
    "\n",
    "    # define X and y\n",
    "    X = dataset.loc[:, dataset.columns != 'SELL_PRICE']\n",
    "    y = dataset.SELL_PRICE   #target column i.e. price range\n",
    "\n",
    "    X_train, X_val, y_train, y_val = train_test_split(X, y, test_size=0.1, random_state=1)\n",
    "\n",
    "    print(f\"Dataset split into {len(X_train)} training data points and {len(X_val)} validation points.\")\n",
    "\n",
    "    return X_train, X_val, y_train, y_val\n",
    "\n",
    "\n",
    "def encode_cat_data(X_train, X_val):\n",
    "\n",
    "    print(\"Encoding categorical data...\")\n",
    "    \n",
    "    # Get list of categorical variables\n",
    "    s = (X_train.dtypes == 'object')\n",
    "    object_cols = list(s[s].index)\n",
    "    print(f\"Categorical variables: {object_cols}\")\n",
    "\n",
    "    # Apply one-hot encoder to each column with categorical data\n",
    "    OH_encoder = OneHotEncoder(handle_unknown='ignore', sparse=False)\n",
    "    OH_cols_train = pd.DataFrame(OH_encoder.fit_transform(X_train[object_cols]))\n",
    "    OH_cols_val = pd.DataFrame(OH_encoder.transform(X_val[object_cols]))\n",
    "\n",
    "    # One-hot encoding removed index, so now we put it back\n",
    "    OH_cols_train.index = X_train.index\n",
    "    OH_cols_val.index = X_val.index\n",
    "\n",
    "    # Remove categorical columns (will replace with one-hot encoding)\n",
    "    num_X_train = X_train.drop(object_cols, axis=1)\n",
    "    num_X_val = X_val.drop(object_cols, axis=1)\n",
    "\n",
    "    # Add one-hot encoded columns to numerical features\n",
    "    OH_X_train = pd.concat([num_X_train, OH_cols_train], axis=1)\n",
    "    OH_X_val = pd.concat([num_X_val, OH_cols_val], axis=1)\n",
    "\n",
    "    return OH_X_train, OH_X_val\n",
    "\n",
    "\n",
    "def train_model(X_train, y_train):\n",
    "\n",
    "    print(\"Training the model...\")\n",
    "\n",
    "    # specify training model\n",
    "    rf_training_model = RandomForestRegressor(n_estimators=500, criterion='absolute_error', random_state=0)\n",
    "    # fit training model\n",
    "    rf_training_model.fit(X_train, y_train)\n",
    "   \n",
    "    return rf_training_model\n",
    "\n",
    "\n",
    "def accuracy(model, X_val, y_val):\n",
    "\n",
    "    print(\"Testing the model accuracy...\")\n",
    "\n",
    "    validation_predictions = model.predict(X_val)\n",
    "    validation_mae = mean_absolute_error(validation_predictions, y_val)\n",
    "\n",
    "    return validation_mae\n",
    "\n",
    "\n",
    "def main():\n",
    "\n",
    "    # load data\n",
    "    data = pd.read_csv('..\\\\data\\\\train.csv', index_col='ADDRESS')\n",
    "    data = data.select_dtypes(include=[np.number])\n",
    "\n",
    "    # split train/test\n",
    "    X_train, X_val, y_train, y_val = create_train_test_data(data)\n",
    "\n",
    "    # encode categorical data\n",
    "    #X_train, X_val = encode_cat_data(X_train, X_val)\n",
    "\n",
    "    # train and test\n",
    "    model = train_model(X_train, y_train)\n",
    "    mae_test = accuracy(model, X_val, y_val)\n",
    "\n",
    "    print(f\"Mean Absolute Error (MAE): ${mae_test:,.0f}\")\n",
    "\n",
    "    return model, X_val\n",
    "\n",
    "\n",
    "if __name__ == '__main__':\n",
    "    model, X_val = main()\n"
   ]
  },
  {
   "cell_type": "markdown",
   "id": "7ba6a29b",
   "metadata": {},
   "source": [
    "### PREDICTION MODEL"
   ]
  },
  {
   "cell_type": "markdown",
   "id": "4df4c6e8",
   "metadata": {},
   "source": [
    "##### from population..."
   ]
  },
  {
   "cell_type": "code",
   "execution_count": 21,
   "id": "1ff0cad1",
   "metadata": {},
   "outputs": [],
   "source": [
    "# load data\n",
    "predict_data = pd.read_csv('..\\\\data\\\\predict.csv', index_col='ADDRESS')\n",
    "predict_data = predict_data.select_dtypes(include=[np.number])\n",
    "\n",
    "# make predictions\n",
    "predictions = model.predict(predict_data)\n",
    "\n",
    "# join predictions back into original dataframe\n",
    "predict_data['predicts'] = predictions\n",
    "\n",
    "# output cleaned sales data to clean-sales-data.csv\n",
    "predict_data.to_csv('..\\\\data\\\\predictions.csv')"
   ]
  },
  {
   "cell_type": "markdown",
   "id": "619b4840",
   "metadata": {},
   "source": [
    "##### from sample..."
   ]
  },
  {
   "cell_type": "code",
   "execution_count": null,
   "id": "a719aa40",
   "metadata": {},
   "outputs": [],
   "source": [
    "# load data\n",
    "predict_data = pd.read_csv('..\\\\data\\\\predict.csv', index_col='ADDRESS')\n",
    "predict_data = predict_data.select_dtypes(include=[np.number])\n",
    "\n",
    "address_to_predict = input(\"Please enter an address to predict:\")\n",
    "sample = predict_data.loc[[address_to_predict]]\n",
    "sample_prediction = model.predict(sample)\n",
    "sample_prediction = sample_prediction[0]\n",
    "\n",
    "print(f\"The predicted price of {address_to_predict} is ${sample_prediction:,.0f}\")"
   ]
  }
 ],
 "metadata": {
  "interpreter": {
   "hash": "329be4360984adccd2a89186caf100ba561a36e0758e1e64a4fb4d77c807baf4"
  },
  "kernelspec": {
   "display_name": "Python 3.8.8 64-bit ('base': conda)",
   "name": "python3"
  },
  "language_info": {
   "codemirror_mode": {
    "name": "ipython",
    "version": 3
   },
   "file_extension": ".py",
   "mimetype": "text/x-python",
   "name": "python",
   "nbconvert_exporter": "python",
   "pygments_lexer": "ipython3",
   "version": "3.9.5"
  }
 },
 "nbformat": 4,
 "nbformat_minor": 5
}
